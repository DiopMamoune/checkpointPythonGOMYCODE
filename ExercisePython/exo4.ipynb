{
 "cells": [
  {
   "cell_type": "code",
   "execution_count": 2,
   "id": "540c5a05-5290-41b5-94aa-3ad43ed8cb9f",
   "metadata": {},
   "outputs": [
    {
     "name": "stdout",
     "output_type": "stream",
     "text": [
      "donner un nombre: 3\n",
      "Donner une chaine: mamoune\n",
      "La chaine donnée est :mamoune\n",
      "Le nombre saisie est :3\n",
      "mamune\n"
     ]
    }
   ],
   "source": [
    "number = int(input(\"donner un nombre: \"))\n",
    "chaine = str(input(\"Donner une chaine: \"))\n",
    "print(\"La chaine donnée est :\"+chaine)\n",
    "print(\"Le nombre saisie est :\"+str(number))\n",
    "#function to convert string to list\n",
    "def Convert(string):\n",
    "    list1=[]\n",
    "    list1[:0]=string\n",
    "    return list1\n",
    "list = Convert(chaine)\n",
    "#print(list)\n",
    "#list.pop to delete index to list\n",
    "list.pop(number)\n",
    "#print(list)\n",
    "myChaine = ''\n",
    "#loops for to transform list in string\n",
    "for i in list:\n",
    "    myChaine +=''+i\n",
    "print(myChaine)\n"
   ]
  },
  {
   "cell_type": "code",
   "execution_count": null,
   "id": "722c83ac",
   "metadata": {},
   "outputs": [],
   "source": []
  }
 ],
 "metadata": {
  "kernelspec": {
   "display_name": "Python 3",
   "language": "python",
   "name": "python3"
  },
  "language_info": {
   "codemirror_mode": {
    "name": "ipython",
    "version": 3
   },
   "file_extension": ".py",
   "mimetype": "text/x-python",
   "name": "python",
   "nbconvert_exporter": "python",
   "pygments_lexer": "ipython3",
   "version": "3.8.8"
  }
 },
 "nbformat": 4,
 "nbformat_minor": 5
}
