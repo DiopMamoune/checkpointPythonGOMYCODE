{
 "cells": [
  {
   "cell_type": "code",
   "execution_count": null,
   "id": "7498fb69-4932-4bff-acff-08ff692a50f2",
   "metadata": {},
   "outputs": [],
   "source": [
    "#demander a l'utilisateur un nombre\n",
    "nbr = int(input('Donner un nombre :'))\n",
    "#cread loops\n",
    "for i in range(1,nbr+1):\n",
    "    dict={i,i*i}\n",
    "    print(dict)"
   ]
  }
 ],
 "metadata": {
  "kernelspec": {
   "display_name": "",
   "name": ""
  },
  "language_info": {
   "name": ""
  }
 },
 "nbformat": 4,
 "nbformat_minor": 5
}
