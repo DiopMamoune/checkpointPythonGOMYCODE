{
 "cells": [
  {
   "cell_type": "code",
   "execution_count": 4,
   "id": "dc01274b-4146-4dae-a4ed-c8952a554d32",
   "metadata": {},
   "outputs": [
    {
     "name": "stdout",
     "output_type": "stream",
     "text": [
      "100,150,180\n",
      "18,22,24\n"
     ]
    }
   ],
   "source": [
    "from math import sqrt\n",
    "#creation de list\n",
    "c =  int(50)\n",
    "h= int(30)\n",
    "SORTIE = [];\n",
    "# insertion de donnéé sur une liste\n",
    "tab =[i for i in input().split(',')];\n",
    "for i in tab:\n",
    "    RacineCarre = str(int(round(sqrt(2*c*float(i)/h))));\n",
    "    # ajouter les valeurs dans la liste\n",
    "    SORTIE.append(RacineCarre);\n",
    "    \n",
    "print(','.join(SORTIE));"
   ]
  },
  {
   "cell_type": "code",
   "execution_count": null,
   "id": "df842bc5",
   "metadata": {},
   "outputs": [],
   "source": []
  }
 ],
 "metadata": {
  "kernelspec": {
   "display_name": "Python 3",
   "language": "python",
   "name": "python3"
  },
  "language_info": {
   "codemirror_mode": {
    "name": "ipython",
    "version": 3
   },
   "file_extension": ".py",
   "mimetype": "text/x-python",
   "name": "python",
   "nbconvert_exporter": "python",
   "pygments_lexer": "ipython3",
   "version": "3.8.8"
  }
 },
 "nbformat": 4,
 "nbformat_minor": 5
}
